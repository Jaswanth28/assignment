{
 "cells": [
  {
   "cell_type": "code",
   "execution_count": 2,
   "metadata": {},
   "outputs": [],
   "source": [
    "import cv2\n",
    "import torch\n",
    "from RealESRGAN import RealESRGAN\n",
    "import numpy as np\n",
    "import os"
   ]
  },
  {
   "cell_type": "code",
   "execution_count": 3,
   "metadata": {},
   "outputs": [],
   "source": [
    "device = torch.device('cuda' if torch.cuda.is_available() else 'cpu')\n",
    "model = RealESRGAN(device, scale=2)\n",
    "model.load_weights('weights/RealESRGAN_x4plus.pth', download=True) "
   ]
  },
  {
   "cell_type": "markdown",
   "metadata": {},
   "source": [
    "### Video Upscaling using Real-ESRGAN (image-to-image) technique "
   ]
  },
  {
   "cell_type": "code",
   "execution_count": 4,
   "metadata": {},
   "outputs": [],
   "source": [
    "def process_video(input_file_path, output_file_path):\n",
    "    cap = cv2.VideoCapture(input_file_path) #file is opened and read\n",
    "    width = int(cap.get(cv2.CAP_PROP_FRAME_WIDTH)) # width and height of video is obtained\n",
    "    height = int(cap.get(cv2.CAP_PROP_FRAME_HEIGHT))\n",
    "    out_width = width * 2  # upscale to double\n",
    "    out_height = height * 2\n",
    "    fourcc = cv2.VideoWriter_fourcc(*\"HVEC\") # codec selection based on your wish can use mp4v,etc\n",
    "    out = cv2.VideoWriter(output_file_path, fourcc, cap.get(cv2.CAP_PROP_FPS), (out_width, out_height)) # final video format name,dimensions and fps\n",
    "\n",
    "    frame_counter = 0\n",
    "\n",
    "    while cap.isOpened():\n",
    "        ret, frame = cap.read()\n",
    "        if not ret:\n",
    "            break\n",
    "\n",
    "        frame_rgb = cv2.cvtColor(frame, cv2.COLOR_BGR2RGB) # convert frame to rgb\n",
    "        sr_frame_tensor = model.predict(frame_rgb) # enhance using Real-ESRGAN model \n",
    "        sr_frame = np.array(sr_frame_tensor) # convert frame to np array\n",
    "        sr_frame = cv2.cvtColor(sr_frame, cv2.COLOR_RGB2BGR) # converting to blue,green,red format\n",
    "        sr_frame = cv2.cvtColor(sr_frame, cv2.COLOR_BGR2HSV) #converting to Hue, Saturation, Value for color correction\n",
    "        sr_frame = np.clip(sr_frame * np.array([1, 1.1, 1.05]), 0, 255).astype(np.uint8) # here the contrast and brightness is adjusted to 8bit for better output\n",
    "        sr_frame = cv2.cvtColor(sr_frame, cv2.COLOR_HSV2BGR) # again converted from hsv to rgb format\n",
    "\n",
    "        frame_counter += 1\n",
    "        print(f\"Frame {frame_counter} upscaled successfully!\")\n",
    "\n",
    "        out.write(sr_frame) # the frame is witten to outfile\n",
    "\n",
    "    cap.release()\n",
    "    out.release()\n",
    "    cv2.destroyAllWindows()"
   ]
  },
  {
   "cell_type": "markdown",
   "metadata": {},
   "source": [
    "### Video Resize for desired dimension"
   ]
  },
  {
   "cell_type": "code",
   "execution_count": 5,
   "metadata": {},
   "outputs": [],
   "source": [
    "def resize_video(input_path, output_path, new_resolution):\n",
    "    cap = cv2.VideoCapture(input_path)\n",
    "    fps = cap.get(cv2.CAP_PROP_FPS)\n",
    "    fourcc = cv2.VideoWriter_fourcc(*\"HVEC\")\n",
    "    out = cv2.VideoWriter(output_path, fourcc, fps, new_resolution)\n",
    "\n",
    "    while True:\n",
    "        ret, frame = cap.read()\n",
    "        if not ret: \n",
    "            break\n",
    "\n",
    "        resized_frame = cv2.resize(frame, new_resolution)\n",
    "        out.write(resized_frame)\n",
    "\n",
    "    cap.release()\n",
    "    out.release()\n",
    "    cv2.destroyAllWindows()"
   ]
  },
  {
   "cell_type": "markdown",
   "metadata": {},
   "source": [
    "### MAIN BLOCK"
   ]
  },
  {
   "cell_type": "code",
   "execution_count": null,
   "metadata": {},
   "outputs": [],
   "source": [
    "input_video_path = \"./1.mp4\"  # change the input file location to upscale\n",
    "output_video_path = \"./output1.mp4\" # change to your desired name as its temp\n",
    "final_output_path=\"./output_final1.mp4\" # this is final output file name\n",
    "new_resolution = (1280, 720) # this is the desired resize video dimensions\n",
    "process_video(input_video_path, output_video_path)\n",
    "resize_video(output_video_path, final_output_path, new_resolution)\n",
    "os.remove(output_video_path)"
   ]
  },
  {
   "cell_type": "markdown",
   "metadata": {},
   "source": [
    "### FAQ\n",
    "#### Why Real-ESRGAN?\n",
    "##### Real-ESRGAN is an image-to-image technique well-suited for our frame-by-frame video upscaling approach. Its use of Generative Adversarial Networks (GANs) allows it to handle content filling by generating plausible textures and details, seamlessly extending the missing left and right sides of the video frames."
   ]
  }
 ],
 "metadata": {
  "kernelspec": {
   "display_name": "Python 3",
   "language": "python",
   "name": "python3"
  },
  "language_info": {
   "codemirror_mode": {
    "name": "ipython",
    "version": 3
   },
   "file_extension": ".py",
   "mimetype": "text/x-python",
   "name": "python",
   "nbconvert_exporter": "python",
   "pygments_lexer": "ipython3",
   "version": "3.10.10"
  }
 },
 "nbformat": 4,
 "nbformat_minor": 2
}
